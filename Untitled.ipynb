{
 "cells": [
  {
   "cell_type": "code",
   "execution_count": 1,
   "id": "74d06254",
   "metadata": {},
   "outputs": [
    {
     "ename": "ModuleNotFoundError",
     "evalue": "No module named 'customtkinter'",
     "output_type": "error",
     "traceback": [
      "\u001b[1;31m---------------------------------------------------------------------------\u001b[0m",
      "\u001b[1;31mModuleNotFoundError\u001b[0m                       Traceback (most recent call last)",
      "\u001b[1;32m~\\AppData\\Local\\Temp\\ipykernel_10624\\3610135649.py\u001b[0m in \u001b[0;36m<module>\u001b[1;34m\u001b[0m\n\u001b[1;32m----> 1\u001b[1;33m \u001b[1;32mimport\u001b[0m \u001b[0mcustomtkinter\u001b[0m\u001b[1;33m\u001b[0m\u001b[1;33m\u001b[0m\u001b[0m\n\u001b[0m\u001b[0;32m      2\u001b[0m \u001b[1;33m\u001b[0m\u001b[0m\n\u001b[0;32m      3\u001b[0m \u001b[0mcustomtkinter\u001b[0m\u001b[1;33m.\u001b[0m\u001b[0mset_appearence_mode\u001b[0m\u001b[1;33m(\u001b[0m\u001b[1;34m\"dark\"\u001b[0m\u001b[1;33m)\u001b[0m\u001b[1;33m\u001b[0m\u001b[1;33m\u001b[0m\u001b[0m\n\u001b[0;32m      4\u001b[0m \u001b[0mcustomtkinter\u001b[0m\u001b[1;33m.\u001b[0m\u001b[0mset_default_color_theme\u001b[0m\u001b[1;33m(\u001b[0m\u001b[1;34m\"dark-blue\"\u001b[0m\u001b[1;33m)\u001b[0m\u001b[1;33m\u001b[0m\u001b[1;33m\u001b[0m\u001b[0m\n\u001b[0;32m      5\u001b[0m \u001b[1;33m\u001b[0m\u001b[0m\n",
      "\u001b[1;31mModuleNotFoundError\u001b[0m: No module named 'customtkinter'"
     ]
    }
   ],
   "source": [
    "import customtkinter\n",
    "\n",
    "customtkinter.set_appearence_mode(\"dark\")\n",
    "customtkinter.set_default_color_theme(\"dark-blue\")\n",
    "\n",
    "janela = customtkinter.CTk()\n",
    "janela.geometry(\"500x300\")\n",
    "\n",
    "def clique():\n",
    "    print(\"Fazer Login\")\n",
    "\n",
    "texto = customtkinter.CTkLabel(janela, text=\"Fazer Login\")\n",
    "email = customtkinter.CTkEntry(janela, placeholder_text=\"E-mail\")\n",
    "senha = customtkinter.CTkEntry(janela, placeHolder_text=\"Senha\", show=\"*\")\n",
    "\n",
    "botao = customtkinter.CTkButton(janela, text=\"login\", command=clique)\n",
    "\n",
    "texto.pack(padx=10, pady=10)\n",
    "email.pack(padx=10, pady=10)\n",
    "senha.pack(padx=10, pady=10)\n",
    "botao.pack(padx=10, pady=10)\n",
    "\n",
    "janela.mainloop()\n"
   ]
  }
 ],
 "metadata": {
  "kernelspec": {
   "display_name": "Python 3 (ipykernel)",
   "language": "python",
   "name": "python3"
  },
  "language_info": {
   "codemirror_mode": {
    "name": "ipython",
    "version": 3
   },
   "file_extension": ".py",
   "mimetype": "text/x-python",
   "name": "python",
   "nbconvert_exporter": "python",
   "pygments_lexer": "ipython3",
   "version": "3.9.13"
  }
 },
 "nbformat": 4,
 "nbformat_minor": 5
}
